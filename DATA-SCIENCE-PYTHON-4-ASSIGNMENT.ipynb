{
 "cells": [
  {
   "cell_type": "code",
   "execution_count": 22,
   "metadata": {
    "collapsed": true
   },
   "outputs": [],
   "source": [
    "#assignment 1.1\n",
    "\"\"\"\n",
    "1.1 Write a Python Program(with class concepts) to find the area of the triangle using the below\n",
    "formula.\n",
    "area = (s*(s-a)*(s-b)*(s-c)) ** 0.5\n",
    "Function to take the length of the sides of triangle from user should be defined in the parent\n",
    "class and function to calculate the area should be defined in subclass.\n",
    "\"\"\"\n",
    "\n",
    "class Triangle:\n",
    "    def __init__(self, side1, side2, side3):\n",
    "        self.side1 = side1\n",
    "        self.side2 = side2\n",
    "        self.side3 = side3\n",
    "    def Area(self):\n",
    "        # calculate the semi-perimeter\n",
    "        s = (self.side1 + self.side2 + self.side3) / 2\n",
    "        # calculate the area\n",
    "        area = (s*(s-self.side1)*(s-self.side2)*(s-self.side3)) ** 0.5\n",
    "        print(area)\n",
    "        return \"The area of the triangle is {}\".format(area)"
   ]
  },
  {
   "cell_type": "code",
   "execution_count": 23,
   "metadata": {},
   "outputs": [
    {
     "name": "stdout",
     "output_type": "stream",
     "text": [
      "2.9047375096555625\n",
      "The area of the triangle is 2.9047375096555625\n"
     ]
    }
   ],
   "source": [
    "area_of_triangle = Triangle(4,2,3)\n",
    "print(area_of_triangle.Area())"
   ]
  },
  {
   "cell_type": "code",
   "execution_count": 24,
   "metadata": {
    "collapsed": true
   },
   "outputs": [],
   "source": [
    "#assignment 1.2\n",
    "\"\"\"\n",
    "1.2 Write a function filter_long_words() that takes a list of words and an integer n and returns\n",
    "the list of words that are longer than n.\n",
    "\n",
    "\"\"\"\n",
    "class length:\n",
    "    def __init__(self,list1,num):\n",
    "        self.list1 = list1\n",
    "        self.num = num\n",
    "    def long_words(self):\n",
    "        words = [i for i in self.list1 if len(i) > self.num]\n",
    "        return words"
   ]
  },
  {
   "cell_type": "code",
   "execution_count": 27,
   "metadata": {},
   "outputs": [
    {
     "name": "stdout",
     "output_type": "stream",
     "text": [
      "['Beautiful', 'Pineapple']\n"
     ]
    }
   ],
   "source": [
    "list1 = ['Plaban','Beautiful','Apple','Pineapple','Orange']\n",
    "filter_long_words = length(list1,8)\n",
    "print(filter_long_words.long_words())"
   ]
  },
  {
   "cell_type": "code",
   "execution_count": 28,
   "metadata": {
    "collapsed": true
   },
   "outputs": [],
   "source": [
    "#assignment 2.1\n",
    "\n",
    "\"\"\"\n",
    "2.1 Write a Python program using function concept that maps list of words into a list of integers\n",
    "representing the lengths of the corresponding words.\n",
    "Hint: ​If a list [ ab,cde,erty] is passed on to the python function output should come as [2,3,4]\n",
    "Here 2,3 and 4 are the lengths of the words in the list.\n",
    "\n",
    "\"\"\"\n",
    "\n",
    "class length:\n",
    "    def __init__(self,list1,num):\n",
    "        self.list1 = list1\n",
    "        self.num = num\n",
    "    def long_words(self):\n",
    "        words = [i for i in self.list1 if len(i) > self.num]\n",
    "        return words\n",
    "    def long_words_len(self):\n",
    "        words_len = [len(i) for i in self.list1 if len(i) > self.num]\n",
    "        return words_len\n",
    "        \n"
   ]
  },
  {
   "cell_type": "code",
   "execution_count": 31,
   "metadata": {},
   "outputs": [
    {
     "name": "stdout",
     "output_type": "stream",
     "text": [
      "['Beautiful', 'Pineapple', 'Aeroplane', 'cinderella']\n",
      "[9, 9, 9, 10]\n"
     ]
    }
   ],
   "source": [
    "list1 = ['Plaban','Beautiful','Apple','Pineapple','Orange','Aeroplane','cinderella']\n",
    "filter_long_words = length(list1,8)\n",
    "print(filter_long_words.long_words())\n",
    "print(filter_long_words.long_words_len())"
   ]
  },
  {
   "cell_type": "code",
   "execution_count": 34,
   "metadata": {
    "collapsed": true
   },
   "outputs": [],
   "source": [
    "#assignment 2.2\n",
    "\"\"\"\n",
    "2.2 Write a Python function which takes a character (i.e. a string of length 1) and returns True if\n",
    "it is a vowel, False otherwise.\n",
    "\n",
    "\"\"\"\n",
    "\n",
    "def is_Vowel(c):\n",
    "    list_vowels = ['a','e','i','o','u']\n",
    "    if c.lower() in list_vowels:\n",
    "        return True\n",
    "    else:\n",
    "        return False\n",
    "    "
   ]
  },
  {
   "cell_type": "code",
   "execution_count": 35,
   "metadata": {},
   "outputs": [
    {
     "data": {
      "text/plain": [
       "False"
      ]
     },
     "execution_count": 35,
     "metadata": {},
     "output_type": "execute_result"
    }
   ],
   "source": [
    "is_Vowel('D')"
   ]
  },
  {
   "cell_type": "code",
   "execution_count": 36,
   "metadata": {},
   "outputs": [
    {
     "data": {
      "text/plain": [
       "True"
      ]
     },
     "execution_count": 36,
     "metadata": {},
     "output_type": "execute_result"
    }
   ],
   "source": [
    "is_Vowel('E')"
   ]
  },
  {
   "cell_type": "code",
   "execution_count": 37,
   "metadata": {},
   "outputs": [
    {
     "data": {
      "text/plain": [
       "True"
      ]
     },
     "execution_count": 37,
     "metadata": {},
     "output_type": "execute_result"
    }
   ],
   "source": [
    "is_Vowel('e')"
   ]
  },
  {
   "cell_type": "code",
   "execution_count": null,
   "metadata": {
    "collapsed": true
   },
   "outputs": [],
   "source": []
  }
 ],
 "metadata": {
  "kernelspec": {
   "display_name": "Python 3",
   "language": "python",
   "name": "python3"
  },
  "language_info": {
   "codemirror_mode": {
    "name": "ipython",
    "version": 3
   },
   "file_extension": ".py",
   "mimetype": "text/x-python",
   "name": "python",
   "nbconvert_exporter": "python",
   "pygments_lexer": "ipython3",
   "version": "3.5.4"
  }
 },
 "nbformat": 4,
 "nbformat_minor": 2
}
